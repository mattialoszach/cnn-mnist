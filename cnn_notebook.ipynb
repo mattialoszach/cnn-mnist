{
  "nbformat": 4,
  "nbformat_minor": 0,
  "metadata": {
    "colab": {
      "provenance": [],
      "gpuType": "T4"
    },
    "kernelspec": {
      "name": "python3",
      "display_name": "Python 3"
    },
    "language_info": {
      "name": "python"
    },
    "accelerator": "GPU"
  },
  "cells": [
    {
      "cell_type": "code",
      "execution_count": null,
      "metadata": {
        "colab": {
          "base_uri": "https://localhost:8080/"
        },
        "id": "Vdn9LFsZMN45",
        "outputId": "4adc78d8-90a0-491c-a0a4-35967e847adf"
      },
      "outputs": [
        {
          "output_type": "stream",
          "name": "stdout",
          "text": [
            "cuda\n"
          ]
        }
      ],
      "source": [
        "import numpy as np\n",
        "import matplotlib.pyplot as plt\n",
        "import torch\n",
        "from torchvision import datasets, transforms\n",
        "from torch.utils.data import DataLoader\n",
        "\n",
        "device = \"cuda\" if torch.cuda.is_available() else \"cpu\"\n",
        "print(device)"
      ]
    },
    {
      "cell_type": "code",
      "source": [
        "from torch.utils.data import random_split\n",
        "\n",
        "transform = transforms.Compose([transforms.ToTensor()])\n",
        "train_dataset = datasets.MNIST(root='./data', train=True, transform=transform, download=True)\n",
        "test_dataset = datasets.MNIST(root='./data', train=False, transform=transform, download=True)\n",
        "\n",
        "validation_size = 2000\n",
        "test_size = len(test_dataset) - validation_size\n",
        "\n",
        "validation_dataset, test_dataset = random_split(test_dataset, [validation_size, test_size])\n",
        "\n",
        "print(len(train_dataset), len(validation_dataset), len(test_dataset))"
      ],
      "metadata": {
        "colab": {
          "base_uri": "https://localhost:8080/"
        },
        "id": "osLLfa47MfqV",
        "outputId": "d6e9fcd2-5f7f-410d-89fe-6f8665c3f021"
      },
      "execution_count": null,
      "outputs": [
        {
          "output_type": "stream",
          "name": "stdout",
          "text": [
            "60000 2000 8000\n"
          ]
        }
      ]
    },
    {
      "cell_type": "code",
      "source": [
        "train_loader = DataLoader(dataset=train_dataset, batch_size=64, shuffle=True)\n",
        "val_loader = DataLoader(dataset=validation_dataset, batch_size=64, shuffle=True)\n",
        "test_loader = DataLoader(dataset=test_dataset, batch_size=64, shuffle=False)"
      ],
      "metadata": {
        "id": "YH3ojDMXNxon"
      },
      "execution_count": null,
      "outputs": []
    },
    {
      "cell_type": "code",
      "source": [
        "data_iter = iter(train_loader)\n",
        "img, label = next(data_iter)\n",
        "img = img[0, 0]\n",
        "\n",
        "plt.imshow(img, cmap='grey')\n",
        "plt.title(f\"Number {label[0]}\")\n",
        "plt.axis('off')\n",
        "plt.show()"
      ],
      "metadata": {
        "colab": {
          "base_uri": "https://localhost:8080/",
          "height": 428
        },
        "id": "TzpYzbC8OGJq",
        "outputId": "7a2a7a73-492d-4f88-d2f7-64d7743c7987"
      },
      "execution_count": null,
      "outputs": [
        {
          "output_type": "display_data",
          "data": {
            "text/plain": [
              "<Figure size 640x480 with 1 Axes>"
            ],
            "image/png": "[encoded data removed]"
          },
          "metadata": {}
        }
      ]
    },
    {
      "cell_type": "code",
      "source": [
        "import torch.nn as nn\n",
        "import torch.nn.functional as F\n",
        "\n",
        "class myCNN(nn.Module):\n",
        "  def __init__(self):\n",
        "    super(myCNN, self).__init__()\n",
        "    # Dimensions: 1x28x28 -> 32x28x28\n",
        "    self.conv1 = nn.Conv2d(in_channels=1, out_channels=32, kernel_size=3, stride=1, padding=1)\n",
        "    # Dimensions: 32x28x28 -> 32x14x14\n",
        "    self.pool = nn.MaxPool2d(kernel_size=2, stride=2)\n",
        "    # Dimensions: 32x14x14 -> 64x14x14\n",
        "    self.conv2 = nn.Conv2d(in_channels=32, out_channels=64, kernel_size=3, stride=1, padding=1)\n",
        "    # Danach nochmal Pooling Layer: 64x14x14 --> 64x7x7\n",
        "    self.dropout = nn.Dropout(0.25)\n",
        "    self.relu = nn.ReLU()\n",
        "    self.fc1 = nn.Linear(64*7*7, 128)\n",
        "    self.fc2 = nn.Linear(128, 10)\n",
        "\n",
        "  def forward(self, x):\n",
        "    x = self.relu(self.conv1(x))\n",
        "    x = self.pool(x)\n",
        "    x = self.relu(self.conv2(x))\n",
        "    x = self.pool(x)\n",
        "\n",
        "    x = self.dropout(x)\n",
        "    x = x.view(x.size(0), -1)\n",
        "\n",
        "    x = self.relu(self.fc1(x))\n",
        "    x = self.fc2(x)\n",
        "    return x"
      ],
      "metadata": {
        "id": "ACXxtUV2P0bo"
      },
      "execution_count": null,
      "outputs": []
    },
    {
      "cell_type": "code",
      "source": [
        "import torch.optim as optim\n",
        "\n",
        "model = myCNN().to(device)\n",
        "print(model)\n",
        "\n",
        "learning_rate = 0.001\n",
        "num_epochs = 5\n",
        "criterion = nn.CrossEntropyLoss()\n",
        "optimizer = optim.Adam(model.parameters(), lr=learning_rate)"
      ],
      "metadata": {
        "colab": {
          "base_uri": "https://localhost:8080/"
        },
        "id": "Lo8XkQhXThdK",
        "outputId": "91b2fd70-d285-4ef6-f7ba-c689b2770058"
      },
      "execution_count": null,
      "outputs": [
        {
          "output_type": "stream",
          "name": "stdout",
          "text": [
            "myCNN(\n",
            "  (conv1): Conv2d(1, 32, kernel_size=(3, 3), stride=(1, 1), padding=(1, 1))\n",
            "  (pool): MaxPool2d(kernel_size=2, stride=2, padding=0, dilation=1, ceil_mode=False)\n",
            "  (conv2): Conv2d(32, 64, kernel_size=(3, 3), stride=(1, 1), padding=(1, 1))\n",
            "  (dropout): Dropout(p=0.25, inplace=False)\n",
            "  (relu): ReLU()\n",
            "  (fc1): Linear(in_features=3136, out_features=128, bias=True)\n",
            "  (fc2): Linear(in_features=128, out_features=10, bias=True)\n",
            ")\n"
          ]
        }
      ]
    },
    {
      "cell_type": "code",
      "source": [
        "def train_model(model, train_loader, val_loader, criterion, optimizer, num_epochs):\n",
        "  acc_loss = 0\n",
        "  acc_count = 0\n",
        "  model.train()\n",
        "  for epoch in range(num_epochs):\n",
        "    print(f\"Epoch {epoch+1}\\n-------------------\")\n",
        "    for batch, (X, y) in enumerate(train_loader):\n",
        "      X = X.to(device)\n",
        "      y = y.to(device)\n",
        "\n",
        "      pred = model(X)\n",
        "      loss = criterion(pred, y)\n",
        "\n",
        "      optimizer.zero_grad()\n",
        "      loss.backward()\n",
        "      optimizer.step()\n",
        "\n",
        "      acc_loss += loss.item()\n",
        "      acc_count += 1\n",
        "\n",
        "    model.eval()\n",
        "    correct = 0\n",
        "\n",
        "    with torch.no_grad():\n",
        "      for X, y in val_loader:\n",
        "        X = X.to(device)\n",
        "        y = y.to(device)\n",
        "        pred = model(X)\n",
        "        loss = criterion(pred, y)\n",
        "        correct += (pred.argmax(1)==y).sum().item()\n",
        "    print(f\"Epoch [{epoch+1}/{num_epochs}], Loss: {acc_loss/acc_count}, Validation Accuracy: {correct/validation_size:.2%}\\n\")"
      ],
      "metadata": {
        "id": "50if9vUpT-AP"
      },
      "execution_count": null,
      "outputs": []
    },
    {
      "cell_type": "code",
      "source": [
        "def test_model(model, test_loader, criterion):\n",
        "  model.eval()\n",
        "  correct = 0\n",
        "\n",
        "  with torch.no_grad():\n",
        "    for X, y in test_loader:\n",
        "      X = X.to(device)\n",
        "      y = y.to(device)\n",
        "      pred = model(X)\n",
        "      loss = criterion(pred, y)\n",
        "      correct += (pred.argmax(1)==y).sum().item()\n",
        "    print(f\"Overall test accuracy: {correct/test_size:.2%}\")"
      ],
      "metadata": {
        "id": "B-0gjjx8aflI"
      },
      "execution_count": null,
      "outputs": []
    },
    {
      "cell_type": "code",
      "source": [
        "train_model(model, train_loader, val_loader, criterion, optimizer, num_epochs)"
      ],
      "metadata": {
        "colab": {
          "base_uri": "https://localhost:8080/"
        },
        "id": "fOkS1xC5ZybP",
        "outputId": "2930073e-24f8-42ea-877f-0bcc906dc245"
      },
      "execution_count": null,
      "outputs": [
        {
          "output_type": "stream",
          "name": "stdout",
          "text": [
            "Epoch 1\n",
            "-------------------\n",
            "Epoch [1/5], Loss: 0.17568533338391895, Validation Accuracy: 98.50%\n",
            "\n",
            "Epoch 2\n",
            "-------------------\n",
            "Epoch [2/5], Loss: 0.11159170459971321, Validation Accuracy: 98.60%\n",
            "\n",
            "Epoch 3\n",
            "-------------------\n",
            "Epoch [3/5], Loss: 0.08558105563253178, Validation Accuracy: 99.25%\n",
            "\n",
            "Epoch 4\n",
            "-------------------\n",
            "Epoch [4/5], Loss: 0.07020361993403763, Validation Accuracy: 98.70%\n",
            "\n",
            "Epoch 5\n",
            "-------------------\n",
            "Epoch [5/5], Loss: 0.05984859789663119, Validation Accuracy: 98.95%\n",
            "\n"
          ]
        }
      ]
    },
    {
      "cell_type": "code",
      "source": [
        "# Not trained model\n",
        "print(f\"Not trained model:\")\n",
        "model_not_trained = myCNN().to(device)\n",
        "test_model(model_not_trained, test_loader, criterion)\n",
        "\n",
        "# Our trained model\n",
        "print(f\"Our trained model:\")\n",
        "test_model(model, test_loader, criterion)"
      ],
      "metadata": {
        "colab": {
          "base_uri": "https://localhost:8080/"
        },
        "id": "qBNN_VvSaeIZ",
        "outputId": "4b560ccb-7bdc-4754-fad3-0c4322316106"
      },
      "execution_count": null,
      "outputs": [
        {
          "output_type": "stream",
          "name": "stdout",
          "text": [
            "Not trained model:\n",
            "Overall test accuracy: 10.09%\n",
            "Our trained model:\n",
            "Overall test accuracy: 99.02%\n"
          ]
        }
      ]
    },
    {
      "cell_type": "code",
      "source": [
        "# Save model\n",
        "model_path = \"model_weights.pth\"\n",
        "torch.save(model.state_dict(), model_path)"
      ],
      "metadata": {
        "id": "PR-z7xWecgdF"
      },
      "execution_count": null,
      "outputs": []
    },
    {
      "cell_type": "code",
      "source": [
        "# Run test on saved pre trained model\n",
        "model_pre_trained = myCNN().to(device)\n",
        "model_pre_trained.load_state_dict(torch.load(model_path))\n",
        "\n",
        "test_model(model_pre_trained, test_loader, criterion)"
      ],
      "metadata": {
        "colab": {
          "base_uri": "https://localhost:8080/"
        },
        "id": "NwMSB2VrcuvS",
        "outputId": "ba8be6ce-8b0a-455e-d55f-37360e696ab5"
      },
      "execution_count": null,
      "outputs": [
        {
          "output_type": "stream",
          "name": "stderr",
          "text": [
            "<ipython-input-14-2aa716e0eb9d>:3: FutureWarning: You are using `torch.load` with `weights_only=False` (the current default value), which uses the default pickle module implicitly. It is possible to construct malicious pickle data which will execute arbitrary code during unpickling (See https://github.com/pytorch/pytorch/blob/main/SECURITY.md#untrusted-models for more details). In a future release, the default value for `weights_only` will be flipped to `True`. This limits the functions that could be executed during unpickling. Arbitrary objects will no longer be allowed to be loaded via this mode unless they are explicitly allowlisted by the user via `torch.serialization.add_safe_globals`. We recommend you start setting `weights_only=True` for any use case where you don't have full control of the loaded file. Please open an issue on GitHub for any issues related to this experimental feature.\n",
            "  model_pre_trained.load_state_dict(torch.load(model_path))\n"
          ]
        },
        {
          "output_type": "stream",
          "name": "stdout",
          "text": [
            "Overall test accuracy: 99.02%\n"
          ]
        }
      ]
    },
    {
      "cell_type": "code",
      "source": [
        "!pip install torch-summary\n",
        "from torchsummary import summary\n",
        "summary(model_pre_trained, input_size=(1, 28, 28))"
      ],
      "metadata": {
        "colab": {
          "base_uri": "https://localhost:8080/"
        },
        "id": "EvdbUPKZeEDp",
        "outputId": "c2082a99-14d4-4f48-ab7e-6104b31ab76b"
      },
      "execution_count": null,
      "outputs": [
        {
          "output_type": "stream",
          "name": "stdout",
          "text": [
            "Requirement already satisfied: torch-summary in /usr/local/lib/python3.10/dist-packages (1.4.5)\n",
            "=================================================================\n",
            "Layer (type:depth-idx)                   Param #\n",
            "=================================================================\n",
            "├─Conv2d: 1-1                            320\n",
            "├─MaxPool2d: 1-2                         --\n",
            "├─Conv2d: 1-3                            18,496\n",
            "├─Dropout: 1-4                           --\n",
            "├─ReLU: 1-5                              --\n",
            "├─Linear: 1-6                            401,536\n",
            "├─Linear: 1-7                            1,290\n",
            "=================================================================\n",
            "Total params: 421,642\n",
            "Trainable params: 421,642\n",
            "Non-trainable params: 0\n",
            "=================================================================\n"
          ]
        },
        {
          "output_type": "execute_result",
          "data": {
            "text/plain": [
              "=================================================================\n",
              "Layer (type:depth-idx)                   Param #\n",
              "=================================================================\n",
              "├─Conv2d: 1-1                            320\n",
              "├─MaxPool2d: 1-2                         --\n",
              "├─Conv2d: 1-3                            18,496\n",
              "├─Dropout: 1-4                           --\n",
              "├─ReLU: 1-5                              --\n",
              "├─Linear: 1-6                            401,536\n",
              "├─Linear: 1-7                            1,290\n",
              "=================================================================\n",
              "Total params: 421,642\n",
              "Trainable params: 421,642\n",
              "Non-trainable params: 0\n",
              "================================================================="
            ]
          },
          "metadata": {},
          "execution_count": 15
        }
      ]
    }
  ]
}